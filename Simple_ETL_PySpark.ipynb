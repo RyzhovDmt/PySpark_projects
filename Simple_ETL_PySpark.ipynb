{
  "nbformat": 4,
  "nbformat_minor": 0,
  "metadata": {
    "colab": {
      "provenance": [],
      "collapsed_sections": [],
      "authorship_tag": "ABX9TyPJA9RJCE2E9DmslGijXRW3",
      "include_colab_link": true
    },
    "kernelspec": {
      "name": "python3",
      "display_name": "Python 3"
    },
    "language_info": {
      "name": "python"
    }
  },
  "cells": [
    {
      "cell_type": "markdown",
      "metadata": {
        "id": "view-in-github",
        "colab_type": "text"
      },
      "source": [
        "<a href=\"https://colab.research.google.com/github/RyzhovDmt/PySpark_projects/blob/main/Simple_ETL_PySpark.ipynb\" target=\"_parent\"><img src=\"https://colab.research.google.com/assets/colab-badge.svg\" alt=\"Open In Colab\"/></a>"
      ]
    },
    {
      "cell_type": "code",
      "execution_count": null,
      "metadata": {
        "colab": {
          "base_uri": "https://localhost:8080/"
        },
        "id": "_SgqnC9Ik8Od",
        "outputId": "3134c74c-a9b8-4954-c698-5873aeca0c3a"
      },
      "outputs": [
        {
          "output_type": "stream",
          "name": "stdout",
          "text": [
            "Looking in indexes: https://pypi.org/simple, https://us-python.pkg.dev/colab-wheels/public/simple/\n",
            "Collecting pyspark\n",
            "  Downloading pyspark-3.3.0.tar.gz (281.3 MB)\n",
            "\u001b[K     |████████████████████████████████| 281.3 MB 33 kB/s \n",
            "\u001b[?25hCollecting py4j==0.10.9.5\n",
            "  Downloading py4j-0.10.9.5-py2.py3-none-any.whl (199 kB)\n",
            "\u001b[K     |████████████████████████████████| 199 kB 53.4 MB/s \n",
            "\u001b[?25hBuilding wheels for collected packages: pyspark\n",
            "  Building wheel for pyspark (setup.py) ... \u001b[?25l\u001b[?25hdone\n",
            "  Created wheel for pyspark: filename=pyspark-3.3.0-py2.py3-none-any.whl size=281764026 sha256=ea7520d752e43ab8f1899f5a9ccce0ead180ed1be489a912bbb590bc16714e89\n",
            "  Stored in directory: /root/.cache/pip/wheels/7a/8e/1b/f73a52650d2e5f337708d9f6a1750d451a7349a867f928b885\n",
            "Successfully built pyspark\n",
            "Installing collected packages: py4j, pyspark\n",
            "Successfully installed py4j-0.10.9.5 pyspark-3.3.0\n"
          ]
        }
      ],
      "source": [
        "pip install pyspark"
      ]
    },
    {
      "cell_type": "code",
      "source": [
        "from google.colab import files\n",
        "from pyspark.sql import SparkSession, DataFrame\n",
        "import pyspark.sql.functions as F\n",
        "import pyspark.sql.types as t"
      ],
      "metadata": {
        "id": "wQGPTMuFlULC"
      },
      "execution_count": null,
      "outputs": []
    },
    {
      "cell_type": "code",
      "source": [
        "files.upload()"
      ],
      "metadata": {
        "id": "liRmVLv3l7tv"
      },
      "execution_count": null,
      "outputs": []
    },
    {
      "cell_type": "code",
      "source": [
        "spark = SparkSession.builder.appName(\"ETL\").getOrCreate()"
      ],
      "metadata": {
        "id": "YnTiOvQKlUCC"
      },
      "execution_count": null,
      "outputs": []
    },
    {
      "cell_type": "code",
      "source": [
        "spark"
      ],
      "metadata": {
        "colab": {
          "base_uri": "https://localhost:8080/",
          "height": 219
        },
        "id": "MV7Vw-F0ikto",
        "outputId": "d260016d-7389-4125-d719-55489ade2746"
      },
      "execution_count": null,
      "outputs": [
        {
          "output_type": "execute_result",
          "data": {
            "text/plain": [
              "<pyspark.sql.session.SparkSession at 0x7f453063f810>"
            ],
            "text/html": [
              "\n",
              "            <div>\n",
              "                <p><b>SparkSession - in-memory</b></p>\n",
              "                \n",
              "        <div>\n",
              "            <p><b>SparkContext</b></p>\n",
              "\n",
              "            <p><a href=\"http://e9da0cd6bfd6:4040\">Spark UI</a></p>\n",
              "\n",
              "            <dl>\n",
              "              <dt>Version</dt>\n",
              "                <dd><code>v3.3.0</code></dd>\n",
              "              <dt>Master</dt>\n",
              "                <dd><code>local[*]</code></dd>\n",
              "              <dt>AppName</dt>\n",
              "                <dd><code>Practice 2</code></dd>\n",
              "            </dl>\n",
              "        </div>\n",
              "        \n",
              "            </div>\n",
              "        "
            ]
          },
          "metadata": {},
          "execution_count": 5
        }
      ]
    },
    {
      "cell_type": "code",
      "source": [
        "df = spark.read.format(\"csv\").option(\"header\", \"true\").load(\"cars.csv\")"
      ],
      "metadata": {
        "id": "j6y2xs0HmFho"
      },
      "execution_count": null,
      "outputs": []
    },
    {
      "cell_type": "code",
      "source": [
        "df.printSchema()"
      ],
      "metadata": {
        "colab": {
          "base_uri": "https://localhost:8080/"
        },
        "id": "2l6p3onpru6q",
        "outputId": "5b5cc36a-943d-493a-84d3-ccf9a847e262"
      },
      "execution_count": null,
      "outputs": [
        {
          "output_type": "stream",
          "name": "stdout",
          "text": [
            "root\n",
            " |-- manufacturer_name: string (nullable = true)\n",
            " |-- model_name: string (nullable = true)\n",
            " |-- transmission: string (nullable = true)\n",
            " |-- color: string (nullable = true)\n",
            " |-- odometer_value: string (nullable = true)\n",
            " |-- year_produced: string (nullable = true)\n",
            " |-- engine_fuel: string (nullable = true)\n",
            " |-- engine_has_gas: string (nullable = true)\n",
            " |-- engine_type: string (nullable = true)\n",
            " |-- engine_capacity: string (nullable = true)\n",
            " |-- body_type: string (nullable = true)\n",
            " |-- has_warranty: string (nullable = true)\n",
            " |-- state: string (nullable = true)\n",
            " |-- drivetrain: string (nullable = true)\n",
            " |-- price_usd: string (nullable = true)\n",
            " |-- is_exchangeable: string (nullable = true)\n",
            " |-- location_region: string (nullable = true)\n",
            " |-- number_of_photos: string (nullable = true)\n",
            " |-- up_counter: string (nullable = true)\n",
            " |-- feature_0: string (nullable = true)\n",
            " |-- feature_1: string (nullable = true)\n",
            " |-- feature_2: string (nullable = true)\n",
            " |-- feature_3: string (nullable = true)\n",
            " |-- feature_4: string (nullable = true)\n",
            " |-- feature_5: string (nullable = true)\n",
            " |-- feature_6: string (nullable = true)\n",
            " |-- feature_7: string (nullable = true)\n",
            " |-- feature_8: string (nullable = true)\n",
            " |-- feature_9: string (nullable = true)\n",
            " |-- duration_listed: string (nullable = true)\n",
            "\n"
          ]
        }
      ]
    },
    {
      "cell_type": "code",
      "source": [
        "df.show()"
      ],
      "metadata": {
        "colab": {
          "base_uri": "https://localhost:8080/"
        },
        "id": "W2eUlEXYmFkT",
        "outputId": "9e74bef0-2ca3-4e5b-a427-87fb206711d2"
      },
      "execution_count": null,
      "outputs": [
        {
          "output_type": "stream",
          "name": "stdout",
          "text": [
            "+-----------------+----------+------------+------+--------------+-------------+-----------+--------------+-----------+---------------+---------+------------+-----+----------+---------+---------------+---------------+----------------+----------+---------+---------+---------+---------+---------+---------+---------+---------+---------+---------+---------------+\n",
            "|manufacturer_name|model_name|transmission| color|odometer_value|year_produced|engine_fuel|engine_has_gas|engine_type|engine_capacity|body_type|has_warranty|state|drivetrain|price_usd|is_exchangeable|location_region|number_of_photos|up_counter|feature_0|feature_1|feature_2|feature_3|feature_4|feature_5|feature_6|feature_7|feature_8|feature_9|duration_listed|\n",
            "+-----------------+----------+------------+------+--------------+-------------+-----------+--------------+-----------+---------------+---------+------------+-----+----------+---------+---------------+---------------+----------------+----------+---------+---------+---------+---------+---------+---------+---------+---------+---------+---------+---------------+\n",
            "|           Subaru|   Outback|   automatic|silver|        190000|         2010|   gasoline|         False|   gasoline|            2.5|universal|       False|owned|       all|  10900.0|          False|   Минская обл.|               9|        13|    False|     True|     True|     True|    False|     True|    False|     True|     True|     True|             16|\n",
            "|           Subaru|   Outback|   automatic|  blue|        290000|         2002|   gasoline|         False|   gasoline|            3.0|universal|       False|owned|       all|   5000.0|           True|   Минская обл.|              12|        54|    False|     True|    False|    False|     True|     True|    False|    False|    False|     True|             83|\n",
            "|           Subaru|  Forester|   automatic|   red|        402000|         2001|   gasoline|         False|   gasoline|            2.5|      suv|       False|owned|       all|   2800.0|           True|   Минская обл.|               4|        72|    False|     True|    False|    False|    False|    False|    False|    False|     True|     True|            151|\n",
            "|           Subaru|   Impreza|  mechanical|  blue|         10000|         1999|   gasoline|         False|   gasoline|            3.0|    sedan|       False|owned|       all|   9999.0|           True|   Минская обл.|               9|        42|     True|    False|    False|    False|    False|    False|    False|    False|    False|    False|             86|\n",
            "|           Subaru|    Legacy|   automatic| black|        280000|         2001|   gasoline|         False|   gasoline|            2.5|universal|       False|owned|       all|  2134.11|           True|Гомельская обл.|              14|         7|    False|     True|    False|     True|     True|    False|    False|    False|    False|     True|              7|\n",
            "|           Subaru|   Outback|   automatic|silver|        132449|         2011|   gasoline|         False|   gasoline|            2.5|universal|       False|owned|       all|  14700.0|           True|   Минская обл.|              20|        56|    False|     True|    False|    False|    False|     True|    False|     True|     True|     True|             67|\n",
            "|           Subaru|  Forester|   automatic| black|        318280|         1998|   gasoline|         False|   gasoline|            2.5|universal|       False|owned|       all|   3000.0|           True|   Минская обл.|               8|       147|    False|     True|    False|    False|     True|     True|    False|    False|     True|     True|            307|\n",
            "|           Subaru|    Legacy|   automatic|silver|        350000|         2004|   gasoline|         False|   gasoline|            2.5|    sedan|       False|owned|       all|   4500.0|          False| Брестская обл.|               7|        29|    False|     True|     True|    False|    False|    False|    False|    False|    False|     True|             73|\n",
            "|           Subaru|   Outback|   automatic|  grey|        179000|         2010|   gasoline|         False|   gasoline|            2.5|universal|       False|owned|       all|  12900.0|          False|   Минская обл.|              17|        33|    False|     True|     True|     True|     True|     True|     True|     True|     True|     True|             87|\n",
            "|           Subaru|  Forester|   automatic|silver|        571317|         1999|   gasoline|         False|   gasoline|            2.5|universal|       False|owned|       all|   4200.0|           True|   Минская обл.|               8|        11|    False|     True|     True|    False|    False|     True|    False|    False|    False|     True|             43|\n",
            "|           Subaru|  Forester|  mechanical| other|        280000|         2003|   gasoline|         False|   gasoline|            2.0|      suv|       False|owned|       all|   6900.0|           True|   Минская обл.|              14|         6|    False|     True|    False|     True|    False|     True|    False|     True|     True|     True|             11|\n",
            "|           Subaru|   Tribeca|   automatic|  grey|        256000|         2008|   gasoline|         False|   gasoline|            3.6|      suv|       False|owned|       all|   8350.0|           True|   Минская обл.|              18|        61|    False|     True|     True|     True|     True|     True|    False|    False|     True|     True|             80|\n",
            "|           Subaru|  Forester|  mechanical| other|        321000|         2002|   gasoline|         False|   gasoline|            2.0|      suv|       False|owned|       all|   4300.0|          False|   Минская обл.|              13|         2|    False|     True|    False|    False|    False|    False|    False|    False|    False|    False|              2|\n",
            "|           Subaru|     Justy|  mechanical|   red|         49999|         2001|   gasoline|         False|   gasoline|            1.3|hatchback|       False|owned|       all|   1666.0|          False|Гомельская обл.|               8|        94|     True|    False|    False|    False|    False|    False|    False|    False|    False|    False|            230|\n",
            "|           Subaru|   Outback|   automatic| brown|        154685|         2011|   gasoline|         False|   gasoline|            2.5|universal|       False|owned|       all|   8600.0|           True|   Минская обл.|              24|        34|    False|     True|    False|     True|    False|    False|    False|    False|     True|     True|             63|\n",
            "|           Subaru|   Outback|   automatic| black|        163219|         2004|   gasoline|         False|   gasoline|            2.0|universal|       False|owned|       all|   7300.0|           True|   Минская обл.|              17|        22|    False|     True|     True|    False|     True|     True|    False|    False|    False|     True|             35|\n",
            "|           Subaru|   Outback|   automatic| other|        318650|         2005|   gasoline|         False|   gasoline|            3.0|universal|       False|owned|       all|  7587.97|           True|   Минская обл.|               7|       166|    False|     True|    False|     True|     True|     True|    False|    False|     True|     True|            468|\n",
            "|           Subaru|   Impreza|  mechanical|  blue|        191000|         2005|   gasoline|         False|   gasoline|            2.0|    sedan|       False|owned|       all|  10950.0|          False|   Минская обл.|              12|         7|    False|     True|    False|    False|    False|    False|    False|    False|    False|     True|             21|\n",
            "|           Subaru|  Forester|   automatic|silver|        179000|         2014|   gasoline|         False|   gasoline|            2.0|      suv|       False|owned|       all|  12700.0|          False|   Минская обл.|              14|        14|    False|    False|     True|     True|    False|     True|     True|     True|     True|     True|             16|\n",
            "|           Subaru|  Forester|   automatic| black|        159000|         2013|   gasoline|         False|   gasoline|            2.0|      suv|       False|owned|       all|  16500.0|          False|   Минская обл.|               6|        34|    False|     True|     True|    False|     True|     True|    False|     True|     True|     True|             59|\n",
            "+-----------------+----------+------------+------+--------------+-------------+-----------+--------------+-----------+---------------+---------+------------+-----+----------+---------+---------------+---------------+----------------+----------+---------+---------+---------+---------+---------+---------+---------+---------+---------+---------+---------------+\n",
            "only showing top 20 rows\n",
            "\n"
          ]
        }
      ]
    },
    {
      "cell_type": "code",
      "source": [
        "df.select(\"manufacturer_name\", \"model_name\").filter(F.col(\"manufacturer_name\") == 'Audi').distinct().show()"
      ],
      "metadata": {
        "colab": {
          "base_uri": "https://localhost:8080/"
        },
        "id": "CRpvaJpemFnB",
        "outputId": "0869ad0a-3dbf-4b08-a003-94db13df8102"
      },
      "execution_count": null,
      "outputs": [
        {
          "output_type": "stream",
          "name": "stdout",
          "text": [
            "+-----------------+----------+\n",
            "|manufacturer_name|model_name|\n",
            "+-----------------+----------+\n",
            "|             Audi|        S4|\n",
            "|             Audi|       100|\n",
            "|             Audi|        Q5|\n",
            "|             Audi|        A8|\n",
            "|             Audi|        Q7|\n",
            "|             Audi|        Q3|\n",
            "|             Audi|        S5|\n",
            "|             Audi|        A2|\n",
            "|             Audi|       RS6|\n",
            "|             Audi|        A1|\n",
            "|             Audi|        A7|\n",
            "|             Audi|        V8|\n",
            "|             Audi|        TT|\n",
            "|             Audi|     Coupe|\n",
            "|             Audi|        A5|\n",
            "|             Audi|        A3|\n",
            "|             Audi|        S8|\n",
            "|             Audi|        A6|\n",
            "|             Audi|A6 Allroad|\n",
            "|             Audi|        80|\n",
            "+-----------------+----------+\n",
            "only showing top 20 rows\n",
            "\n"
          ]
        }
      ]
    },
    {
      "cell_type": "code",
      "source": [
        "def extract(spark: SparkSession, path: str) -> DataFrame:\n",
        "    return spark.read.option(\"header\", \"true\").csv(path)"
      ],
      "metadata": {
        "id": "pFc6xuFimFpk"
      },
      "execution_count": null,
      "outputs": []
    },
    {
      "cell_type": "code",
      "source": [
        "# Инфо по каждому производителю:\n",
        "# число объявл\n",
        "# средний год\n",
        "# min/max цену\n",
        "def transform(df: DataFrame) -> DataFrame:\n",
        "    output = (\n",
        "        df\n",
        "        #.filter(F.col(\"manufacturer_name\") == 'Audi')\n",
        "        .groupBy(\"manufacturer_name\")\n",
        "        .agg(\n",
        "            F.count(\"manufacturer_name\").alias(\"count_ads\"),\n",
        "            F.round(F.avg(\"year_produced\")).cast(t.IntegerType()).alias(\"avg_year_produced\"),\n",
        "            F.min(F.col(\"price_usd\").cast(t.FloatType())).alias(\"min_price\"),\n",
        "            F.max(F.col(\"price_usd\").cast(t.FloatType())).alias(\"max_price\"),\n",
        "        )\n",
        "        .orderBy(F.col(\"count_ads\").desc())\n",
        "    )\n",
        "    return output"
      ],
      "metadata": {
        "id": "SS90gq1ZmFry"
      },
      "execution_count": null,
      "outputs": []
    },
    {
      "cell_type": "code",
      "source": [
        "def save(df: DataFrame) -> None:\n",
        "    #df.write.mode(\"overwrite\").format(\"json\").save(\"result.json\")\n",
        "    df.coalesce(2).write.mode(\"overwrite\").format(\"json\").save(\"result\")"
      ],
      "metadata": {
        "id": "X66sZUc33U-Z"
      },
      "execution_count": null,
      "outputs": []
    },
    {
      "cell_type": "code",
      "source": [
        "def pipeline():\n",
        "    spark = SparkSession.builder.appName(\"ETL\").getOrCreate()\n",
        "    df = extract(spark, \"cars.csv\")\n",
        "    output = transform(df)\n",
        "    save(output)\n",
        "    output.show()\n",
        "\n",
        "pipeline()"
      ],
      "metadata": {
        "colab": {
          "base_uri": "https://localhost:8080/"
        },
        "id": "eSUfFEu-3VA4",
        "outputId": "ef956936-49a5-441d-e9df-7c9b21570e8f"
      },
      "execution_count": null,
      "outputs": [
        {
          "output_type": "stream",
          "name": "stdout",
          "text": [
            "+-----------------+---------+-----------------+---------+---------+\n",
            "|manufacturer_name|count_ads|avg_year_produced|min_price|max_price|\n",
            "+-----------------+---------+-----------------+---------+---------+\n",
            "|       Volkswagen|     4243|             2002|      1.0|  43999.0|\n",
            "|             Opel|     2759|             2002|    150.0|  22900.0|\n",
            "|              BMW|     2610|             2003|     9.49|  50000.0|\n",
            "|             Ford|     2566|             2002|    110.0|  41000.0|\n",
            "|          Renault|     2493|             2003|     10.0| 30304.47|\n",
            "|             Audi|     2468|             2000|    130.0|  46750.0|\n",
            "|    Mercedes-Benz|     2237|             2002|     1.42|  49999.0|\n",
            "|          Peugeot|     1909|             2003|      1.0|  20450.0|\n",
            "|          Citroen|     1562|             2003|    100.0|  19500.0|\n",
            "|           Nissan|     1361|             2004|    150.0|  39000.0|\n",
            "|            Mazda|     1328|             2002|      1.0|  39500.0|\n",
            "|           Toyota|     1246|             2006|    250.0|  45999.0|\n",
            "|          Hyundai|     1116|             2007|    200.0| 45954.66|\n",
            "|            Skoda|     1089|             2013|    300.0| 44947.83|\n",
            "|              Kia|      912|             2008|    200.0|  44700.0|\n",
            "|       Mitsubishi|      887|             2002|    150.0|  31400.0|\n",
            "|             Fiat|      824|             2000|      1.0| 34118.23|\n",
            "|            Honda|      797|             2004|    100.0|  42000.0|\n",
            "|            Volvo|      721|             2004|    155.0|  48200.0|\n",
            "|              ВАЗ|      481|             1994|      1.0|  12804.7|\n",
            "+-----------------+---------+-----------------+---------+---------+\n",
            "only showing top 20 rows\n",
            "\n"
          ]
        }
      ]
    }
  ]
}